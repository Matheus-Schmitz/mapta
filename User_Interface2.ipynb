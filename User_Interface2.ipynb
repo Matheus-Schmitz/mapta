{
 "cells": [
  {
   "cell_type": "markdown",
   "id": "a378cca3",
   "metadata": {
    "deletable": false,
    "editable": false
   },
   "source": [
    "# MAPTA User Interface"
   ]
  },
  {
   "cell_type": "markdown",
   "id": "e5061fd0",
   "metadata": {
    "deletable": false,
    "editable": false
   },
   "source": [
    "To use this notebook and all you have to do is run `Load Libraries` and `Initiate Model` cells. Then you are free to choose from single sentence mode or batch model."
   ]
  },
  {
   "cell_type": "markdown",
   "id": "c8d1fdda",
   "metadata": {
    "deletable": false,
    "editable": false
   },
   "source": [
    "## Load MAPTA"
   ]
  },
  {
   "cell_type": "code",
   "execution_count": 1,
   "id": "e96fbbd8",
   "metadata": {
    "deletable": false,
    "editable": false
   },
   "outputs": [
    {
     "name": "stderr",
     "output_type": "stream",
     "text": [
      "/Users/patrickpeng/opt/anaconda3/lib/python3.7/site-packages/statsmodels/tools/_testing.py:19: FutureWarning: pandas.util.testing is deprecated. Use the functions in the public API at pandas.testing instead.\n",
      "  import pandas.util.testing as tm\n",
      "[nltk_data] Downloading package wordnet to\n",
      "[nltk_data]     /Users/patrickpeng/nltk_data...\n",
      "[nltk_data]   Package wordnet is already up-to-date!\n",
      "[nltk_data] Downloading package stopwords to\n",
      "[nltk_data]     /Users/patrickpeng/nltk_data...\n",
      "[nltk_data]   Package stopwords is already up-to-date!\n",
      "[nltk_data] Downloading package punkt to\n",
      "[nltk_data]     /Users/patrickpeng/nltk_data...\n",
      "[nltk_data]   Package punkt is already up-to-date!\n"
     ]
    }
   ],
   "source": [
    "from auxilary import *\n",
    "model = Mapta.MAPTA()"
   ]
  },
  {
   "cell_type": "markdown",
   "id": "307a39ba",
   "metadata": {
    "deletable": false,
    "editable": false
   },
   "source": [
    "# Sentence Analysis\n",
    "\n",
    "This function allows you to input sentences directly in the input box and get analysis results"
   ]
  },
  {
   "cell_type": "code",
   "execution_count": 1,
   "id": "2dd31e29",
   "metadata": {
    "deletable": false,
    "editable": false
   },
   "outputs": [
    {
     "name": "stdout",
     "output_type": "stream",
     "text": [
      "Type query sentence below, hit enter when finish.\n",
      "homo deus\n"
     ]
    }
   ],
   "source": [
    "# one sentence \n",
    "print(\"Type query sentence below, hit enter when finish.\")\n",
    "text = input()"
   ]
  },
  {
   "cell_type": "code",
   "execution_count": 2,
   "id": "4e6f0680",
   "metadata": {
    "deletable": false,
    "editable": false
   },
   "outputs": [
    {
     "ename": "NameError",
     "evalue": "name 'getSingleOuput' is not defined",
     "output_type": "error",
     "traceback": [
      "\u001b[1;31m---------------------------------------------------------------------------\u001b[0m",
      "\u001b[1;31mNameError\u001b[0m                                 Traceback (most recent call last)",
      "\u001b[1;32m<ipython-input-2-6a438e579771>\u001b[0m in \u001b[0;36m<module>\u001b[1;34m\u001b[0m\n\u001b[1;32m----> 1\u001b[1;33m \u001b[0mgetSingleOuput\u001b[0m\u001b[1;33m(\u001b[0m\u001b[0mtext\u001b[0m\u001b[1;33m)\u001b[0m\u001b[1;33m\u001b[0m\u001b[1;33m\u001b[0m\u001b[0m\n\u001b[0m",
      "\u001b[1;31mNameError\u001b[0m: name 'getSingleOuput' is not defined"
     ]
    }
   ],
   "source": [
    "getSingleOuput(text, model)"
   ]
  },
  {
   "cell_type": "markdown",
   "id": "14be8c5e",
   "metadata": {
    "deletable": false,
    "editable": false
   },
   "source": [
    "# Batch Mode\n",
    "\n",
    "The Batch Mode allow you to upload a file containing multiple texts in .txt format, and get an output file containing all the results. "
   ]
  },
  {
   "cell_type": "code",
   "execution_count": 5,
   "id": "f3390481",
   "metadata": {
    "deletable": false,
    "editable": false
   },
   "outputs": [
    {
     "data": {
      "application/vnd.jupyter.widget-view+json": {
       "model_id": "a76fc6a665cd40c19ec88d38262832b4",
       "version_major": 2,
       "version_minor": 0
      },
      "text/plain": [
       "FileUpload(value={}, accept='.txt', description='Upload')"
      ]
     },
     "metadata": {},
     "output_type": "display_data"
    }
   ],
   "source": [
    "upload = FileUpload(accept='.txt', multiple=False)\n",
    "display(upload)\n"
   ]
  },
  {
   "cell_type": "code",
   "execution_count": 10,
   "id": "cf0173ed",
   "metadata": {
    "deletable": false,
    "editable": false
   },
   "outputs": [
    {
     "name": "stdout",
     "output_type": "stream",
     "text": [
      "Upload file test_1.txt\n",
      "Generating output\n",
      "Done!\n"
     ]
    },
    {
     "data": {
      "image/png": "[encoded data removed]",
      "text/plain": [
       "<Figure size 432x288 with 1 Axes>"
      ]
     },
     "metadata": {
      "needs_background": "light"
     },
     "output_type": "display_data"
    },
    {
     "name": "stdout",
     "output_type": "stream",
     "text": [
      "There are 4 samples in the uploaded file\n",
      "    \n",
      "   2 samples are classified as the LGBT group with threshold 0.2015\n",
      "    \n",
      "   4 samples are classified as the Drug group with threshold 0.1041\n"
     ]
    },
    {
     "data": {
      "text/html": [
       "<div>\n",
       "<style scoped>\n",
       "    .dataframe tbody tr th:only-of-type {\n",
       "        vertical-align: middle;\n",
       "    }\n",
       "\n",
       "    .dataframe tbody tr th {\n",
       "        vertical-align: top;\n",
       "    }\n",
       "\n",
       "    .dataframe thead th {\n",
       "        text-align: right;\n",
       "    }\n",
       "</style>\n",
       "<table border=\"1\" class=\"dataframe\">\n",
       "  <thead>\n",
       "    <tr style=\"text-align: right;\">\n",
       "      <th></th>\n",
       "      <th>text</th>\n",
       "      <th>LGBT</th>\n",
       "      <th>drug</th>\n",
       "      <th>fear</th>\n",
       "      <th>anger</th>\n",
       "      <th>anticip</th>\n",
       "      <th>trust</th>\n",
       "      <th>surprise</th>\n",
       "      <th>positive</th>\n",
       "      <th>negative</th>\n",
       "      <th>sadness</th>\n",
       "      <th>disgust</th>\n",
       "      <th>joy</th>\n",
       "      <th>anticipation</th>\n",
       "    </tr>\n",
       "  </thead>\n",
       "  <tbody>\n",
       "    <tr>\n",
       "      <th>0</th>\n",
       "      <td>this is a happy day</td>\n",
       "      <td>0.990764</td>\n",
       "      <td>0.985489</td>\n",
       "      <td>0.0</td>\n",
       "      <td>0.0</td>\n",
       "      <td>0.0</td>\n",
       "      <td>0.25</td>\n",
       "      <td>0.0</td>\n",
       "      <td>0.25</td>\n",
       "      <td>0.0</td>\n",
       "      <td>0.0</td>\n",
       "      <td>0.0</td>\n",
       "      <td>0.25</td>\n",
       "      <td>0.25</td>\n",
       "    </tr>\n",
       "    <tr>\n",
       "      <th>1</th>\n",
       "      <td>gay gay smoking weed and being gay</td>\n",
       "      <td>0.976351</td>\n",
       "      <td>0.505066</td>\n",
       "      <td>0.0</td>\n",
       "      <td>0.0</td>\n",
       "      <td>0.0</td>\n",
       "      <td>0.00</td>\n",
       "      <td>0.0</td>\n",
       "      <td>0.00</td>\n",
       "      <td>0.0</td>\n",
       "      <td>0.0</td>\n",
       "      <td>0.0</td>\n",
       "      <td>0.00</td>\n",
       "      <td>0.00</td>\n",
       "    </tr>\n",
       "    <tr>\n",
       "      <th>2</th>\n",
       "      <td>smoking weed</td>\n",
       "      <td>0.037170</td>\n",
       "      <td>0.675241</td>\n",
       "      <td>0.0</td>\n",
       "      <td>0.0</td>\n",
       "      <td>0.0</td>\n",
       "      <td>0.00</td>\n",
       "      <td>0.0</td>\n",
       "      <td>0.00</td>\n",
       "      <td>0.0</td>\n",
       "      <td>0.0</td>\n",
       "      <td>0.0</td>\n",
       "      <td>0.00</td>\n",
       "      <td>0.00</td>\n",
       "    </tr>\n",
       "    <tr>\n",
       "      <th>3</th>\n",
       "      <td>drugs I love drugs</td>\n",
       "      <td>0.122372</td>\n",
       "      <td>0.926189</td>\n",
       "      <td>0.0</td>\n",
       "      <td>0.0</td>\n",
       "      <td>0.0</td>\n",
       "      <td>0.00</td>\n",
       "      <td>0.0</td>\n",
       "      <td>0.50</td>\n",
       "      <td>0.0</td>\n",
       "      <td>0.0</td>\n",
       "      <td>0.0</td>\n",
       "      <td>0.50</td>\n",
       "      <td>0.00</td>\n",
       "    </tr>\n",
       "  </tbody>\n",
       "</table>\n",
       "</div>"
      ],
      "text/plain": [
       "                                  text      LGBT      drug  fear  anger  \\\n",
       "0                 this is a happy day   0.990764  0.985489   0.0    0.0   \n",
       "1  gay gay smoking weed and being gay   0.976351  0.505066   0.0    0.0   \n",
       "2                        smoking weed   0.037170  0.675241   0.0    0.0   \n",
       "3                  drugs I love drugs   0.122372  0.926189   0.0    0.0   \n",
       "\n",
       "   anticip  trust  surprise  positive  negative  sadness  disgust   joy  \\\n",
       "0      0.0   0.25       0.0      0.25       0.0      0.0      0.0  0.25   \n",
       "1      0.0   0.00       0.0      0.00       0.0      0.0      0.0  0.00   \n",
       "2      0.0   0.00       0.0      0.00       0.0      0.0      0.0  0.00   \n",
       "3      0.0   0.00       0.0      0.50       0.0      0.0      0.0  0.50   \n",
       "\n",
       "   anticipation  \n",
       "0          0.25  \n",
       "1          0.00  \n",
       "2          0.00  \n",
       "3          0.00  "
      ]
     },
     "execution_count": 10,
     "metadata": {},
     "output_type": "execute_result"
    }
   ],
   "source": [
    "output = batchUpload(model)\n",
    "output"
   ]
  }
 ],
 "metadata": {
  "celltoolbar": "Edit Metadata",
  "kernelspec": {
   "display_name": "Python 3",
   "language": "python",
   "name": "python3"
  },
  "language_info": {
   "codemirror_mode": {
    "name": "ipython",
    "version": 3
   },
   "file_extension": ".py",
   "mimetype": "text/x-python",
   "name": "python",
   "nbconvert_exporter": "python",
   "pygments_lexer": "ipython3",
   "version": "3.7.10"
  }
 },
 "nbformat": 4,
 "nbformat_minor": 5
}
