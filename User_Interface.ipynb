{
 "cells": [
  {
   "cell_type": "markdown",
   "id": "a378cca3",
   "metadata": {
    "deletable": false,
    "editable": false
   },
   "source": [
    "# MAPTA User Interface"
   ]
  },
  {
   "cell_type": "markdown",
   "id": "e5061fd0",
   "metadata": {
    "deletable": false,
    "editable": false
   },
   "source": [
    "To use this notebook and all you have to do is run `Load Libraries` and `Initiate Model` cells. Then you are free to choose from single sentence mode or batch model."
   ]
  },
  {
   "cell_type": "markdown",
   "id": "c8d1fdda",
   "metadata": {
    "deletable": false,
    "editable": false
   },
   "source": [
    "## Load MAPTA"
   ]
  },
  {
   "cell_type": "code",
   "execution_count": null,
   "id": "e96fbbd8",
   "metadata": {
    "deletable": false,
    "editable": false
   },
   "outputs": [],
   "source": [
    "from auxilary import *\n",
    "model = Mapta.MAPTA()"
   ]
  },
  {
   "cell_type": "markdown",
   "id": "307a39ba",
   "metadata": {
    "deletable": false,
    "editable": false
   },
   "source": [
    "# Sentence Analysis\n",
    "\n",
    "This function allows you to input sentences directly in the input box and get analysis results"
   ]
  },
  {
   "cell_type": "code",
   "execution_count": null,
   "id": "2dd31e29",
   "metadata": {
    "deletable": false,
    "editable": false
   },
   "outputs": [],
   "source": [
    "# one sentence \n",
    "print(\"Type query sentence below, hit enter when finish.\")\n",
    "text = input()"
   ]
  },
  {
   "cell_type": "code",
   "execution_count": null,
   "id": "4e6f0680",
   "metadata": {
    "deletable": false,
    "editable": false
   },
   "outputs": [],
   "source": [
    "getSingleOuput(text, model)"
   ]
  },
  {
   "cell_type": "markdown",
   "id": "14be8c5e",
   "metadata": {
    "deletable": false,
    "editable": false
   },
   "source": [
    "# Batch Mode\n",
    "\n",
    "The Batch Mode allow you to upload a file containing multiple texts in .txt format, and get an output file containing all the results. "
   ]
  },
  {
   "cell_type": "code",
   "execution_count": null,
   "id": "f3390481",
   "metadata": {
    "deletable": false,
    "editable": false
   },
   "outputs": [],
   "source": [
    "upload = FileUpload(accept='.txt', multiple=False)\n",
    "display(upload)"
   ]
  },
  {
   "cell_type": "code",
   "execution_count": null,
   "id": "cf0173ed",
   "metadata": {
    "deletable": false
   },
   "outputs": [],
   "source": [
    "output = batchUpload(upload, model)\n",
    "output"
   ]
  }
 ],
 "metadata": {
  "celltoolbar": "Edit Metadata",
  "kernelspec": {
   "display_name": "Python 3",
   "language": "python",
   "name": "python3"
  },
  "language_info": {
   "codemirror_mode": {
    "name": "ipython",
    "version": 3
   },
   "file_extension": ".py",
   "mimetype": "text/x-python",
   "name": "python",
   "nbconvert_exporter": "python",
   "pygments_lexer": "ipython3",
   "version": "3.7.10"
  }
 },
 "nbformat": 4,
 "nbformat_minor": 5
}
